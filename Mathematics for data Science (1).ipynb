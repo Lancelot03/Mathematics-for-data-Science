{
 "cells": [
  {
   "cell_type": "code",
   "execution_count": 1,
   "id": "9c166ad5",
   "metadata": {},
   "outputs": [],
   "source": [
    "import numpy as np"
   ]
  },
  {
   "cell_type": "markdown",
   "id": "bceca842",
   "metadata": {},
   "source": [
    "# 1-Create Numpy Array A of size 4 x 5 and Numpy Array B of Size 5 x 4."
   ]
  },
  {
   "cell_type": "code",
   "execution_count": 4,
   "id": "e320bea2",
   "metadata": {},
   "outputs": [
    {
     "name": "stdout",
     "output_type": "stream",
     "text": [
      "[[1 2 3 4 5]\n",
      " [3 4 5 6 7]\n",
      " [4 5 6 7 8]\n",
      " [5 6 7 8 9]]\n"
     ]
    }
   ],
   "source": [
    "a=np.array([[1,2,3,4,5],[3,4,5,6,7],[4,5,6,7,8],[5,6,7,8,9]])\n",
    "print(a)"
   ]
  },
  {
   "cell_type": "code",
   "execution_count": 7,
   "id": "df501a19",
   "metadata": {
    "scrolled": true
   },
   "outputs": [
    {
     "name": "stdout",
     "output_type": "stream",
     "text": [
      "[[1 1 1 1]\n",
      " [2 2 2 2]\n",
      " [3 3 3 3]\n",
      " [4 4 4 4]\n",
      " [5 5 5 5]]\n"
     ]
    }
   ],
   "source": [
    "b=np.array([[1,1,1,1],[2,2,2,2],[3,3,3,3],[4,4,4,4],[5,5,5,5]])\n",
    "print(b)"
   ]
  },
  {
   "cell_type": "code",
   "execution_count": null,
   "id": "d6d757af",
   "metadata": {},
   "outputs": [],
   "source": []
  },
  {
   "cell_type": "markdown",
   "id": "ea0c557c",
   "metadata": {},
   "source": [
    "## Generate a matrix C as a resultent of multiplication of A and B{using loop}."
   ]
  },
  {
   "cell_type": "code",
   "execution_count": 14,
   "id": "ca95171b",
   "metadata": {},
   "outputs": [
    {
     "name": "stdout",
     "output_type": "stream",
     "text": [
      "[[ 55  55  55  55]\n",
      " [ 85  85  85  85]\n",
      " [100 100 100 100]\n",
      " [115 115 115 115]]\n"
     ]
    }
   ],
   "source": [
    "c=np.array([[0,0,0,0],[0,0,0,0],[0,0,0,0],[0,0,0,0]])\n",
    "for i in range(len(a)):\n",
    "    for j in range(len(b[0])):\n",
    "        for k in range(len(b)):\n",
    "            c[i][j] += a[i][k] * b[k][j]\n",
    "print(c)"
   ]
  },
  {
   "cell_type": "markdown",
   "id": "ebfde3f2",
   "metadata": {},
   "source": [
    "## 1 Generate a matrix C as a resultent of multiplication of A and B{use library method}."
   ]
  },
  {
   "cell_type": "code",
   "execution_count": 16,
   "id": "7439a8f2",
   "metadata": {},
   "outputs": [
    {
     "data": {
      "text/plain": [
       "array([[ 55,  55,  55,  55],\n",
       "       [ 85,  85,  85,  85],\n",
       "       [100, 100, 100, 100],\n",
       "       [115, 115, 115, 115]])"
      ]
     },
     "execution_count": 16,
     "metadata": {},
     "output_type": "execute_result"
    }
   ],
   "source": [
    "c=np.matmul(a,b)\n",
    "c"
   ]
  },
  {
   "cell_type": "markdown",
   "id": "dc39f896",
   "metadata": {},
   "source": [
    "# Create a Numpy array A of size 5 x 5 value ranging 0 t0 10."
   ]
  },
  {
   "cell_type": "code",
   "execution_count": 17,
   "id": "c38ea9e0",
   "metadata": {},
   "outputs": [
    {
     "data": {
      "text/plain": [
       "array([[0, 5, 7, 4, 6],\n",
       "       [8, 1, 5, 0, 2],\n",
       "       [9, 8, 4, 9, 1],\n",
       "       [1, 1, 7, 5, 3],\n",
       "       [1, 5, 5, 5, 5]])"
      ]
     },
     "execution_count": 17,
     "metadata": {},
     "output_type": "execute_result"
    }
   ],
   "source": [
    "a=np.random.randint(0,10,size=(5,5))\n",
    "a"
   ]
  },
  {
   "cell_type": "markdown",
   "id": "1f9fe7ae",
   "metadata": {},
   "source": [
    "## Find the transpose of A. Name it at."
   ]
  },
  {
   "cell_type": "code",
   "execution_count": 18,
   "id": "80c5310e",
   "metadata": {},
   "outputs": [
    {
     "data": {
      "text/plain": [
       "array([[0, 8, 9, 1, 1],\n",
       "       [5, 1, 8, 1, 5],\n",
       "       [7, 5, 4, 7, 5],\n",
       "       [4, 0, 9, 5, 5],\n",
       "       [6, 2, 1, 3, 5]])"
      ]
     },
     "execution_count": 18,
     "metadata": {},
     "output_type": "execute_result"
    }
   ],
   "source": [
    "at=np.transpose(a)\n",
    "at"
   ]
  },
  {
   "cell_type": "markdown",
   "id": "80174df9",
   "metadata": {},
   "source": [
    "## Find a x at"
   ]
  },
  {
   "cell_type": "code",
   "execution_count": 19,
   "id": "9be0593b",
   "metadata": {},
   "outputs": [
    {
     "data": {
      "text/plain": [
       "array([[126,  52, 110,  92, 110],\n",
       "       [ 52,  94, 102,  50,  48],\n",
       "       [110, 102, 243,  93, 119],\n",
       "       [ 92,  50,  93,  85,  81],\n",
       "       [110,  48, 119,  81, 101]])"
      ]
     },
     "execution_count": 19,
     "metadata": {},
     "output_type": "execute_result"
    }
   ],
   "source": [
    "B=np.dot(a,at)\n",
    "B"
   ]
  },
  {
   "cell_type": "markdown",
   "id": "5674f5b9",
   "metadata": {},
   "source": [
    "# Create a Numpy array A of size 4 x 4."
   ]
  },
  {
   "cell_type": "code",
   "execution_count": 20,
   "id": "3fd60503",
   "metadata": {},
   "outputs": [
    {
     "data": {
      "text/plain": [
       "array([[0, 8, 3, 1],\n",
       "       [1, 9, 1, 9],\n",
       "       [2, 6, 9, 0],\n",
       "       [3, 2, 8, 8]])"
      ]
     },
     "execution_count": 20,
     "metadata": {},
     "output_type": "execute_result"
    }
   ],
   "source": [
    "a=np.random.randint(0,10,size=(4,4))\n",
    "a"
   ]
  },
  {
   "cell_type": "markdown",
   "id": "64475d9b",
   "metadata": {},
   "source": [
    "## Find the Determinent of a"
   ]
  },
  {
   "cell_type": "code",
   "execution_count": 21,
   "id": "4332016d",
   "metadata": {},
   "outputs": [
    {
     "data": {
      "text/plain": [
       "-436.9999999999999"
      ]
     },
     "execution_count": 21,
     "metadata": {},
     "output_type": "execute_result"
    }
   ],
   "source": [
    "ad=np.linalg.det(a)\n",
    "ad"
   ]
  },
  {
   "cell_type": "markdown",
   "id": "b257b30a",
   "metadata": {},
   "source": [
    "## Find the inverse of a."
   ]
  },
  {
   "cell_type": "code",
   "execution_count": 22,
   "id": "1bdb3906",
   "metadata": {},
   "outputs": [
    {
     "data": {
      "text/plain": [
       "array([[-1.99084668,  1.05720824,  1.38215103, -0.94050343],\n",
       "       [-0.09839817,  0.13501144,  0.14187643, -0.1395881 ],\n",
       "       [ 0.50800915, -0.32494279, -0.29061785,  0.3020595 ],\n",
       "       [ 0.26315789, -0.10526316, -0.26315789,  0.21052632]])"
      ]
     },
     "execution_count": 22,
     "metadata": {},
     "output_type": "execute_result"
    }
   ],
   "source": [
    "ai=np.linalg.inv(a)\n",
    "ai"
   ]
  },
  {
   "cell_type": "markdown",
   "id": "a5b8838b",
   "metadata": {},
   "source": [
    "#  Create two Numpy array A and B of Size 6 x 6."
   ]
  },
  {
   "cell_type": "code",
   "execution_count": 25,
   "id": "4c131ee8",
   "metadata": {},
   "outputs": [
    {
     "data": {
      "text/plain": [
       "array([[ 3, 22,  5, 23, 27, 10],\n",
       "       [16, 17, 24, 12, 18, 16],\n",
       "       [27, 23,  6, 18,  7, 21],\n",
       "       [12, 23, 12, 25, 27, 25],\n",
       "       [13, 16, 16, 23,  2,  2],\n",
       "       [ 5, 21,  1, 23,  7, 18]])"
      ]
     },
     "execution_count": 25,
     "metadata": {},
     "output_type": "execute_result"
    }
   ],
   "source": [
    "a=np.random.randint(0,30,size=(6,6))\n",
    "a"
   ]
  },
  {
   "cell_type": "code",
   "execution_count": 26,
   "id": "cf796183",
   "metadata": {},
   "outputs": [
    {
     "data": {
      "text/plain": [
       "array([[13, 28, 19,  3, 19,  3],\n",
       "       [20, 19, 20, 21, 26, 21],\n",
       "       [ 1, 10, 10, 19, 20, 18],\n",
       "       [17, 22,  0, 15, 27, 27],\n",
       "       [29, 24,  3, 26,  5, 13],\n",
       "       [ 4, 15,  0, 23, 17,  3]])"
      ]
     },
     "execution_count": 26,
     "metadata": {},
     "output_type": "execute_result"
    }
   ],
   "source": [
    "b=np.random.randint(0,30,size=(6,6))\n",
    "b"
   ]
  },
  {
   "cell_type": "markdown",
   "id": "cf6b864b",
   "metadata": {},
   "source": [
    "## Find the elsment wise multiplication of a,b and store it in c."
   ]
  },
  {
   "cell_type": "code",
   "execution_count": 28,
   "id": "ba8e51c2",
   "metadata": {},
   "outputs": [
    {
     "data": {
      "text/plain": [
       "array([[ 39, 616,  95,  69, 513,  30],\n",
       "       [320, 323, 480, 252, 468, 336],\n",
       "       [ 27, 230,  60, 342, 140, 378],\n",
       "       [204, 506,   0, 375, 729, 675],\n",
       "       [377, 384,  48, 598,  10,  26],\n",
       "       [ 20, 315,   0, 529, 119,  54]])"
      ]
     },
     "execution_count": 28,
     "metadata": {},
     "output_type": "execute_result"
    }
   ],
   "source": [
    "c=a*b\n",
    "c"
   ]
  },
  {
   "cell_type": "markdown",
   "id": "29fdcbfa",
   "metadata": {},
   "source": [
    "## Find the inverse of c."
   ]
  },
  {
   "cell_type": "code",
   "execution_count": 29,
   "id": "e955487b",
   "metadata": {},
   "outputs": [
    {
     "data": {
      "text/plain": [
       "array([[-5.47335857e-04,  7.63542066e-05, -1.62216170e-03,\n",
       "         9.85804572e-04,  2.34742894e-03, -2.26868621e-03],\n",
       "       [ 2.50406712e-03, -1.04911891e-03,  3.42624439e-03,\n",
       "        -1.35630281e-03,  1.25241747e-03, -2.49623883e-03],\n",
       "       [ 2.44812093e-04,  1.95279787e-03,  1.34559996e-03,\n",
       "        -1.73288831e-03, -8.61169278e-04,  3.69792173e-04],\n",
       "       [-1.26555243e-03,  4.72829986e-04, -1.35632604e-03,\n",
       "         3.56667654e-04, -5.28153129e-04,  3.05126402e-03],\n",
       "       [-8.88128675e-04,  8.53345044e-04, -4.24845681e-03,\n",
       "         1.82477467e-03, -1.46512476e-03,  2.81864700e-03],\n",
       "       [-4.94421953e-05, -4.20921290e-04,  3.26368682e-03,\n",
       "         3.13688609e-05,  2.27458716e-04, -2.18238346e-03]])"
      ]
     },
     "execution_count": 29,
     "metadata": {},
     "output_type": "execute_result"
    }
   ],
   "source": [
    "ci=np.linalg.inv(c)\n",
    "ci"
   ]
  },
  {
   "cell_type": "code",
   "execution_count": null,
   "id": "ab3c3162",
   "metadata": {},
   "outputs": [],
   "source": []
  }
 ],
 "metadata": {
  "kernelspec": {
   "display_name": "Python 3 (ipykernel)",
   "language": "python",
   "name": "python3"
  },
  "language_info": {
   "codemirror_mode": {
    "name": "ipython",
    "version": 3
   },
   "file_extension": ".py",
   "mimetype": "text/x-python",
   "name": "python",
   "nbconvert_exporter": "python",
   "pygments_lexer": "ipython3",
   "version": "3.9.7"
  },
  "toc": {
   "base_numbering": 1,
   "nav_menu": {},
   "number_sections": true,
   "sideBar": true,
   "skip_h1_title": false,
   "title_cell": "Table of Contents",
   "title_sidebar": "Contents",
   "toc_cell": false,
   "toc_position": {},
   "toc_section_display": true,
   "toc_window_display": true
  }
 },
 "nbformat": 4,
 "nbformat_minor": 5
}
